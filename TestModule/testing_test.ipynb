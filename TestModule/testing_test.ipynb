{
 "cells": [
  {
   "cell_type": "code",
   "execution_count": null,
   "metadata": {},
   "outputs": [],
   "source": [
    "import test\n",
    "import pandas as pd\n",
    "\n",
    "FILENAME = '../data.zip'\n",
    "CLF_NAME_LIST = [\"LR\",\"RF\",\"KNR\",\"SVR\",\"FF\",\"TB\",\"TF\"]\n",
    "df = pd.read_csv(FILENAME)\n",
    "name = test.getName()\n",
    "\n",
    "#Esecuzione degli algoritmi\n",
    "for modelName in CLF_NAME_LIST:\n",
    "    dfProcessed = test.preprocess(df, modelName)\n",
    "    clf = test.load(modelName)\n",
    "    perf = test.predict(dfProcessed, modelName, clf)\n",
    "    print(\"RESULT team: \"+str(test.getName())+\" algoName: \"+ modelName + \" perf: \"+ str(perf))\n"
   ]
  }
 ],
 "metadata": {
  "kernelspec": {
   "display_name": "Python 3",
   "language": "python",
   "name": "python3"
  },
  "language_info": {
   "codemirror_mode": {
    "name": "ipython",
    "version": 3
   },
   "file_extension": ".py",
   "mimetype": "text/x-python",
   "name": "python",
   "nbconvert_exporter": "python",
   "pygments_lexer": "ipython3",
   "version": "3.11.9"
  }
 },
 "nbformat": 4,
 "nbformat_minor": 2
}
